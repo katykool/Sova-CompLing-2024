{
  "cells": [
    {
      "cell_type": "code",
      "execution_count": 1,
      "metadata": {
        "id": "pE8aqobr6zVA"
      },
      "outputs": [],
      "source": [
        "import requests\n",
        "response = requests.get(\"https://pesni.guru/search/%D0%B2%D0%B5%D0%BD%D1%8F-%D0%B4%D1%80%D0%BA%D0%B8%D0%BD?ysclid=lyyrn9xtk6758803189\")"
      ]
    },
    {
      "cell_type": "code",
      "execution_count": 2,
      "metadata": {
        "id": "zxdFAGYa7Esu"
      },
      "outputs": [],
      "source": [
        "from bs4 import BeautifulSoup\n",
        "soup = BeautifulSoup(response.text, 'html.parser')\n",
        "\n",
        "post = soup.find_all('div', {'class': 'songtext'})\n"
      ]
    },
    {
      "cell_type": "code",
      "execution_count": 3,
      "metadata": {
        "collapsed": true,
        "id": "IuWin15x7xO1"
      },
      "outputs": [],
      "source": [
        "p = str(post)"
      ]
    },
    {
      "cell_type": "code",
      "execution_count": 4,
      "metadata": {
        "colab": {
          "base_uri": "https://localhost:8080/"
        },
        "id": "Sny6OGDf8vDQ",
        "outputId": "a32de517-de17-45c5-9fc3-b011e5edf3c2"
      },
      "outputs": [
        {
          "data": {
            "text/plain": [
              "['https://pesni.guru/text/веня-дркин-кошка',\n",
              " 'https://pesni.guru/text/веня-дркин-тибибо',\n",
              " 'https://pesni.guru/text/веня-дркин-день-победы',\n",
              " 'https://pesni.guru/text/веня-дркин-безнадега',\n",
              " 'https://pesni.guru/text/веня-дркин-непохожая-на-сны',\n",
              " 'https://pesni.guru/text/веня-дркин-бесимся',\n",
              " 'https://pesni.guru/text/веня-дркин-нибелунг',\n",
              " 'https://pesni.guru/text/веня-дркин-anno-domini',\n",
              " 'https://pesni.guru/text/веня-дркин-старуха',\n",
              " 'https://pesni.guru/text/веня-дркин-хожу-и-гажу',\n",
              " 'https://pesni.guru/text/веня-дркин-ладо',\n",
              " 'https://pesni.guru/text/веня-дркин-я-в-коем-веке-помню-вас',\n",
              " 'https://pesni.guru/text/веня-дркин-мария',\n",
              " 'https://pesni.guru/text/веня-дркин-не-о-такой-я-мечтал',\n",
              " 'https://pesni.guru/text/веня-дркин-герда',\n",
              " 'https://pesni.guru/text/веня-дркин-коперник',\n",
              " 'https://pesni.guru/text/веня-дркин-достало',\n",
              " 'https://pesni.guru/text/веня-дркин-с-соком-горького-аира',\n",
              " 'https://pesni.guru/text/веня-дркин-горизонтальная',\n",
              " 'https://pesni.guru/text/веня-дркин-бубука',\n",
              " 'https://pesni.guru/text/веня-дркин-на-ивана-купала',\n",
              " 'https://pesni.guru/text/веня-дркин-маргарита',\n",
              " 'https://pesni.guru/text/веня-дркин-завтра-была-война',\n",
              " 'https://pesni.guru/text/веня-дркин-мы-туда-не-пойдем',\n",
              " 'https://pesni.guru/text/веня-дркин-матушка-игуменья',\n",
              " 'https://pesni.guru/text/веня-дркин-я-жду-друзей',\n",
              " 'https://pesni.guru/text/веня-дркин-махабхарата',\n",
              " 'https://pesni.guru/text/веня-дркин-блюзовый-дождь',\n",
              " 'https://pesni.guru/text/веня-дркин-песенка-маленького-гоблина',\n",
              " 'https://pesni.guru/text/веня-дркин-костры-над-рекой',\n",
              " 'https://pesni.guru/text/веня-дркин-безнадга',\n",
              " 'https://pesni.guru/text/веня-дркин-про-него',\n",
              " 'https://pesni.guru/text/веня-дркин-мечта',\n",
              " 'https://pesni.guru/text/веня-дркин-бесогон',\n",
              " 'https://pesni.guru/text/веня-дркин-в-сторону-дождя',\n",
              " 'https://pesni.guru/text/веня-дркин-пароходик',\n",
              " 'https://pesni.guru/text/веня-дркин-эй-старуха',\n",
              " 'https://pesni.guru/text/веня-дркин-кошка-в-окрошке',\n",
              " 'https://pesni.guru/text/веня-дркин-нет-меня-здесь',\n",
              " 'https://pesni.guru/text/веня-дркин-локаята',\n",
              " 'https://pesni.guru/text/веня-дркин-самолтик',\n",
              " 'https://pesni.guru/text/веня-дркин-молодой-пожарный',\n",
              " 'https://pesni.guru/text/веня-дркин-ты-нравишься-мне',\n",
              " 'https://pesni.guru/text/веня-дркин-рама-харе',\n",
              " 'https://pesni.guru/text/веня-дркин-ничего-не-случилось',\n",
              " 'https://pesni.guru/text/веня-дркин-зимний-блюз',\n",
              " 'https://pesni.guru/text/веня-дркин-старая-мельница',\n",
              " 'https://pesni.guru/text/веня-дркин-серебряный-сендей',\n",
              " 'https://pesni.guru/text/веня-дркин-анка-пулеметчица',\n",
              " 'https://pesni.guru/text/веня-дркин-хой',\n",
              " 'https://pesni.guru/text/веня-дркин-шалабуда',\n",
              " 'https://pesni.guru/text/веня-дркин-все-будет-хорошо',\n",
              " 'https://pesni.guru/text/веня-дркин-царица-бриллиантовых-островов',\n",
              " 'https://pesni.guru/text/веня-дркин-трамвай',\n",
              " 'https://pesni.guru/text/веня-дркин-не-похожая-на-сны',\n",
              " 'https://pesni.guru/text/веня-дркин-письма',\n",
              " 'https://pesni.guru/text/веня-дркин-светлейший-князь',\n",
              " 'https://pesni.guru/text/веня-дркин-отходняк',\n",
              " 'https://pesni.guru/text/веня-дркин-не-о-такой',\n",
              " 'https://pesni.guru/text/веня-дркин-журавль-в-небе',\n",
              " 'https://pesni.guru/text/веня-дркин-раскаленный-июль',\n",
              " 'https://pesni.guru/text/веня-дркин-ежедневная-героическая',\n",
              " 'https://pesni.guru/text/веня-дркин-как-это-вс-меня-уже-достало',\n",
              " 'https://pesni.guru/text/веня-дркин-вс-будет-хорошо',\n",
              " 'https://pesni.guru/text/веня-дркин-кто-из-нас-остался-в-дураках',\n",
              " 'https://pesni.guru/text/веня-дркин-про-советскую-милицию',\n",
              " 'https://pesni.guru/text/веня-дркин-эпилог',\n",
              " 'https://pesni.guru/text/веня-дркин-летучий-голландец',\n",
              " 'https://pesni.guru/text/веня-дркин-раскалнный-июль',\n",
              " 'https://pesni.guru/text/веня-дркин-когда-непогода',\n",
              " 'https://pesni.guru/text/веня-дркин-мысли-наркомана',\n",
              " 'https://pesni.guru/text/веня-дркин-четверо',\n",
              " 'https://pesni.guru/text/веня-дркин-в-парке-терновом',\n",
              " 'https://pesni.guru/text/веня-дркин-бесы',\n",
              " 'https://pesni.guru/text/веня-дркин-крым',\n",
              " 'https://pesni.guru/text/веня-дркин-коперник-проклятущая',\n",
              " 'https://pesni.guru/text/веня-дркин-одиноким-одиноко',\n",
              " 'https://pesni.guru/text/веня-дркин-песня-про-советскую-милицию',\n",
              " 'https://pesni.guru/text/веня-дркин-полчаса-до-весны',\n",
              " 'https://pesni.guru/text/веня-дркин-гулял-чувак',\n",
              " 'https://pesni.guru/text/веня-дркин-а-ты-не-конь',\n",
              " 'https://pesni.guru/text/веня-дркин-скотник-саша',\n",
              " 'https://pesni.guru/text/веня-дркин-сентябрь',\n",
              " 'https://pesni.guru/text/веня-дркин-дружок-фома',\n",
              " 'https://pesni.guru/text/веня-дркин-боссанова',\n",
              " 'https://pesni.guru/text/веня-дркин-как-по-есенину',\n",
              " 'https://pesni.guru/text/веня-дркин-лодка',\n",
              " 'https://pesni.guru/text/веня-дркин-сегодня-чай',\n",
              " 'https://pesni.guru/text/веня-дркин-устать-себя-щипать',\n",
              " 'https://pesni.guru/text/веня-дркин-ти-би-бо',\n",
              " 'https://pesni.guru/text/веня-дркин-ano-dominie',\n",
              " 'https://pesni.guru/text/веня-дркин-миссис-джейн',\n",
              " 'https://pesni.guru/text/веня-дркин-автовокзал',\n",
              " 'https://pesni.guru/text/веня-дркин-отвечал-малыш',\n",
              " 'https://pesni.guru/text/веня-дркин-было',\n",
              " 'https://pesni.guru/text/веня-дркин-в-прозе-и-стихах',\n",
              " 'https://pesni.guru/text/веня-дркин-х-и-г',\n",
              " 'https://pesni.guru/text/веня-дркин-карточный-дом',\n",
              " 'https://pesni.guru/text/веня-дркин-сафари',\n",
              " 'https://pesni.guru/text/веня-дркин-романс-про-оттяг',\n",
              " 'https://pesni.guru/text/веня-дркин-портрет-любимой-женщины',\n",
              " 'https://pesni.guru/text/веня-дркин-ещ-одно-утро',\n",
              " 'https://pesni.guru/text/веня-дркин-санчо',\n",
              " 'https://pesni.guru/text/веня-дркин-ласточка',\n",
              " 'https://pesni.guru/text/веня-дркин-мечта-моя',\n",
              " 'https://pesni.guru/text/веня-дркин-тень-жлтого-льва',\n",
              " 'https://pesni.guru/text/веня-дркин-воля-что-неволя',\n",
              " 'https://pesni.guru/text/веня-дркин-хреново',\n",
              " 'https://pesni.guru/text/веня-дркин-от-заката-до-рассвета',\n",
              " 'https://pesni.guru/text/веня-дркин-бразильская-страдальческая',\n",
              " 'https://pesni.guru/text/веня-дркин-дворник',\n",
              " 'https://pesni.guru/text/веня-дркин-тае-зори',\n",
              " 'https://pesni.guru/text/веня-дркин-танго',\n",
              " 'https://pesni.guru/text/веня-дркин-камень-верности',\n",
              " 'https://pesni.guru/text/веня-дркин-еще-одно-утро',\n",
              " 'https://pesni.guru/text/веня-дркин-хиг',\n",
              " 'https://pesni.guru/text/веня-дркин-князь-чиппелин',\n",
              " 'https://pesni.guru/text/веня-дркин-я-валяюсь-на-диване',\n",
              " 'https://pesni.guru/text/веня-дркин-про-чапаева',\n",
              " 'https://pesni.guru/text/веня-дркин-2-деньги',\n",
              " 'https://pesni.guru/text/веня-дркин-тоска-зеленая',\n",
              " 'https://pesni.guru/text/веня-дркин-возьми-гитару-mucho',\n",
              " 'https://pesni.guru/text/веня-дркин-она-жила',\n",
              " 'https://pesni.guru/text/веня-дркин-семеро',\n",
              " 'https://pesni.guru/text/веня-дркин-улетаем',\n",
              " 'https://pesni.guru/text/веня-дркин-приноровлюсь-ка-я-к-тебе',\n",
              " 'https://pesni.guru/text/веня-дркин-про-милицию',\n",
              " 'https://pesni.guru/text/веня-дркин-остров-дождей',\n",
              " 'https://pesni.guru/text/веня-дркин-хой-месяц-молодой',\n",
              " 'https://pesni.guru/text/веня-дркин-колыбельная-бродяги',\n",
              " 'https://pesni.guru/text/веня-дркин-любовь-на-перше',\n",
              " 'https://pesni.guru/text/веня-дркин-мы-эхо',\n",
              " 'https://pesni.guru/text/веня-дркин-юнга',\n",
              " 'https://pesni.guru/text/веня-дркин-эники-беники',\n",
              " 'https://pesni.guru/text/веня-дркин-аист',\n",
              " 'https://pesni.guru/text/веня-дркин-лесной-олень',\n",
              " 'https://pesni.guru/text/веня-дркин-пробуждение',\n",
              " 'https://pesni.guru/text/веня-дркин-дворник-про-него',\n",
              " 'https://pesni.guru/text/веня-дркин-дождаться-ночи',\n",
              " 'https://pesni.guru/text/веня-дркин-про-друзей',\n",
              " 'https://pesni.guru/text/веня-дркин-песня-маленького-гоблина',\n",
              " 'https://pesni.guru/text/веня-дркин-я-живу-на-острове-дождей',\n",
              " 'https://pesni.guru/text/веня-дркин-шел-трамвай-по-улице-советской',\n",
              " 'https://pesni.guru/text/веня-дркин-никотиновый-маньяк',\n",
              " 'https://pesni.guru/text/веня-дркин-в-нашей-хате',\n",
              " 'https://pesni.guru/text/веня-дркин-все-б-х',\n",
              " 'https://pesni.guru/text/веня-дркин-песенка-про-зонтики',\n",
              " 'https://pesni.guru/text/веня-дркин-гусарский-вальс',\n",
              " 'https://pesni.guru/text/веня-дркин-фома',\n",
              " 'https://pesni.guru/text/веня-дркин-александр-литвинов-песенка-маленького-гоблина',\n",
              " 'https://pesni.guru/text/веня-дркин-на-пути-к-дождю',\n",
              " 'https://pesni.guru/text/веня-дркин-а-письма-они-горят-быстро',\n",
              " 'https://pesni.guru/text/веня-дркин-тае-зори-11-чай',\n",
              " 'https://pesni.guru/text/веня-дркин-разведчик',\n",
              " 'https://pesni.guru/text/веня-дркин-проклятущая',\n",
              " 'https://pesni.guru/text/веня-дркин-друг-фома',\n",
              " 'https://pesni.guru/text/веня-дркин-мысли',\n",
              " 'https://pesni.guru/text/веня-дркин-сестра',\n",
              " 'https://pesni.guru/text/веня-дркин-махапхарата',\n",
              " 'https://pesni.guru/text/веня-дркин-как-это-все-меня-уже-достало',\n",
              " 'https://pesni.guru/text/веня-дркин-не-оправдывайся',\n",
              " 'https://pesni.guru/text/веня-дркин-не-скучай',\n",
              " 'https://pesni.guru/text/веня-дркин-ms-jane',\n",
              " 'https://pesni.guru/text/веня-дркин-разобрали-по-кирпичам',\n",
              " 'https://pesni.guru/text/веня-дркин-александр-литвинов-маргарита',\n",
              " 'https://pesni.guru/text/веня-дркин-бесимся-полчаса-до-весны',\n",
              " 'https://pesni.guru/text/веня-дркин-хой-месяц-молодой-белгород-1998',\n",
              " 'https://pesni.guru/text/веня-дркин-серебрянный-сендей',\n",
              " 'https://pesni.guru/text/веня-дркин-александр-литвинов-лодка',\n",
              " 'https://pesni.guru/text/веня-дркин-эныкы-бэныкы',\n",
              " 'https://pesni.guru/text/веня-дркин-песня-о-любви',\n",
              " 'https://pesni.guru/text/веня-дркин-тень-желтого-льва',\n",
              " 'https://pesni.guru/text/веня-дркин-я-хочу-летать',\n",
              " 'https://pesni.guru/text/веня-дркин-цветные-сны',\n",
              " 'https://pesni.guru/text/веня-дркин-бесогон-шуллер',\n",
              " 'https://pesni.guru/text/веня-дркин-кукла',\n",
              " 'https://pesni.guru/text/веня-дркин-босанова',\n",
              " 'https://pesni.guru/text/веня-дркин-александр-литвинов-гномы',\n",
              " 'https://pesni.guru/text/веня-дркин-тараканчики',\n",
              " 'https://pesni.guru/text/веня-дркин-эх-сума',\n",
              " 'https://pesni.guru/text/веня-дркин-нибелунг-рябиной-за-окном',\n",
              " 'https://pesni.guru/text/веня-дркин-кошка-в-окошке',\n",
              " 'https://pesni.guru/text/веня-дркин-кто-из-нас',\n",
              " 'https://pesni.guru/text/веня-дркин-пуля-дура',\n",
              " 'https://pesni.guru/text/веня-дркин-город-сад',\n",
              " 'https://pesni.guru/text/веня-дркин-но-мы-туда-не-пойдем',\n",
              " 'https://pesni.guru/text/веня-дркин-дом-на-окраине',\n",
              " 'https://pesni.guru/text/веня-дркин-анжел',\n",
              " 'https://pesni.guru/text/веня-дркин-ал-сок',\n",
              " 'https://pesni.guru/text/веня-дркин-я-тебя-хочу-простить',\n",
              " 'https://pesni.guru/text/веня-дркин-он-так-и-знал',\n",
              " 'https://pesni.guru/text/веня-дркин-деревянный-человечек',\n",
              " 'https://pesni.guru/text/веня-дркин-достало-бутылка-дряни',\n",
              " 'https://pesni.guru/text/веня-дркин-запись-для-дяди-коли-17-день-победы',\n",
              " 'https://pesni.guru/text/веня-дркин-александр-литвинов-полчаса-до-весны',\n",
              " 'https://pesni.guru/text/веня-дркин-бесимся-пол-часа-до-весны',\n",
              " 'https://pesni.guru/text/веня-дркин-домик-с-видом-на-небо',\n",
              " 'https://pesni.guru/text/веня-дркин-эх-сума-моя-боже-мой-такой-молодой-слепой',\n",
              " 'https://pesni.guru/text/веня-дркин-эх-старуха',\n",
              " 'https://pesni.guru/text/веня-дркин-эх-сума-моя',\n",
              " 'https://pesni.guru/text/веня-дркин-его-запах',\n",
              " 'https://pesni.guru/text/веня-дркин-amp-др-бэнд-эй-старуха',\n",
              " 'https://pesni.guru/text/веня-дркин-в-двух-шагах-до-тумана',\n",
              " 'https://pesni.guru/text/веня-дркин-anno-dominie',\n",
              " 'https://pesni.guru/text/веня-дркин-александр-литвинов-князь-чиппелин-тае-зори',\n",
              " 'https://pesni.guru/text/веня-дркин1970-1999-тае-зори1999-01-князь-чиппелин',\n",
              " 'https://pesni.guru/text/веня-дркин-босса-нова-колса-тихо-вдаль-стучат',\n",
              " 'https://pesni.guru/text/веня-дркин-не-похожая-на-сныпесня-о-любви',\n",
              " 'https://pesni.guru/text/веня-дркин-и-дрбэнд-бубука',\n",
              " 'https://pesni.guru/text/веня-дркин-и-др-бэнд-эныкы-бэныкы',\n",
              " 'https://pesni.guru/text/веня-дркин-одиноким',\n",
              " 'https://pesni.guru/text/веня-дркин-эпилог-воля-что-неволя',\n",
              " 'https://pesni.guru/text/веня-дркин-про-любовь-3',\n",
              " 'https://pesni.guru/text/веня-дркин-александр-литвинов-иероглиф-мы-как-трепетные-пт',\n",
              " 'https://pesni.guru/text/веня-дркин-город-с-куполами',\n",
              " 'https://pesni.guru/text/веня-дркин-крышкин-дом-бесогон',\n",
              " 'https://pesni.guru/text/веня-дркин-чувак',\n",
              " 'https://pesni.guru/text/веня-дркин-слышу-песню-грустную',\n",
              " 'https://pesni.guru/text/веня-дркин-как-это-вс',\n",
              " 'https://pesni.guru/text/веня-дркин-портрет',\n",
              " 'https://pesni.guru/text/веня-дркин-устать-себя-стебать',\n",
              " 'https://pesni.guru/text/веня-дркин-c-соком-горького-аира',\n",
              " 'https://pesni.guru/text/веня-дркин-белые-тени-в-полдень']"
            ]
          },
          "execution_count": 4,
          "metadata": {},
          "output_type": "execute_result"
        }
      ],
      "source": [
        "import re\n",
        "\n",
        "urls_all = []\n",
        "\n",
        "urls = re.findall(r'<a href=\\\"(/text/веня-дркин.*?)\\\"', p, flags=0)\n",
        "\n",
        "for url in urls:\n",
        "  new = 'https://pesni.guru'+url\n",
        "  urls_all.append(new)\n",
        "urls_all"
      ]
    },
    {
      "cell_type": "code",
      "execution_count": 5,
      "metadata": {
        "id": "8Owqh_UYB44B"
      },
      "outputs": [],
      "source": [
        "from tqdm import tqdm"
      ]
    },
    {
      "cell_type": "code",
      "execution_count": 11,
      "metadata": {
        "colab": {
          "base_uri": "https://localhost:8080/"
        },
        "id": "Z8SKIg0-9t-Q",
        "outputId": "bea3e418-f57e-4caf-cdfd-dc440adedbd6"
      },
      "outputs": [
        {
          "name": "stderr",
          "output_type": "stream",
          "text": [
            " 92%|█████████▏| 205/223 [01:02<00:05,  3.29it/s]\n"
          ]
        },
        {
          "ename": "IndexError",
          "evalue": "list index out of range",
          "output_type": "error",
          "traceback": [
            "\u001b[1;31m---------------------------------------------------------------------------\u001b[0m",
            "\u001b[1;31mIndexError\u001b[0m                                Traceback (most recent call last)",
            "Cell \u001b[1;32mIn[11], line 7\u001b[0m\n\u001b[0;32m      4\u001b[0m post \u001b[38;5;241m=\u001b[39m re\u001b[38;5;241m.\u001b[39msub(\u001b[38;5;124m'\u001b[39m\u001b[38;5;124m<.*?>\u001b[39m\u001b[38;5;124m'\u001b[39m, \u001b[38;5;124m'\u001b[39m\u001b[38;5;124m \u001b[39m\u001b[38;5;124m'\u001b[39m, \u001b[38;5;28mstr\u001b[39m(re\u001b[38;5;241m.\u001b[39mfindall(\u001b[38;5;124m'\u001b[39m\u001b[38;5;124m</div>.*?<a\u001b[39m\u001b[38;5;124m'\u001b[39m, \u001b[38;5;28mstr\u001b[39m(soup\u001b[38;5;241m.\u001b[39mfind_all(\u001b[38;5;124m'\u001b[39m\u001b[38;5;124mdiv\u001b[39m\u001b[38;5;124m'\u001b[39m, {\u001b[38;5;124m'\u001b[39m\u001b[38;5;124mclass\u001b[39m\u001b[38;5;124m'\u001b[39m: \u001b[38;5;124m'\u001b[39m\u001b[38;5;124msongtext\u001b[39m\u001b[38;5;124m'\u001b[39m})))[\u001b[38;5;241m0\u001b[39m]))\n\u001b[0;32m      5\u001b[0m result \u001b[38;5;241m=\u001b[39m \u001b[38;5;28mstr\u001b[39m(re\u001b[38;5;241m.\u001b[39mfindall(\u001b[38;5;124m'\u001b[39m\u001b[38;5;124m</div>.*?<a\u001b[39m\u001b[38;5;124m'\u001b[39m, \u001b[38;5;28mstr\u001b[39m(soup\u001b[38;5;241m.\u001b[39mfind_all(\u001b[38;5;124m'\u001b[39m\u001b[38;5;124mdiv\u001b[39m\u001b[38;5;124m'\u001b[39m, {\u001b[38;5;124m'\u001b[39m\u001b[38;5;124mclass\u001b[39m\u001b[38;5;124m'\u001b[39m: \u001b[38;5;124m'\u001b[39m\u001b[38;5;124msongtext\u001b[39m\u001b[38;5;124m'\u001b[39m})))[\u001b[38;5;241m0\u001b[39m])\u001b[38;5;241m.\u001b[39mreplace(\u001b[38;5;124m'\u001b[39m\u001b[38;5;124m<\u001b[39m\u001b[38;5;124m'\u001b[39m, \u001b[38;5;124m'\u001b[39m\u001b[38;5;124m \u001b[39m\u001b[38;5;124m'\u001b[39m)\u001b[38;5;241m.\u001b[39mreplace(\u001b[38;5;124m'\u001b[39m\u001b[38;5;124m>\u001b[39m\u001b[38;5;124m'\u001b[39m, \u001b[38;5;124m'\u001b[39m\u001b[38;5;124m'\u001b[39m)\u001b[38;5;241m.\u001b[39mreplace(\u001b[38;5;124m'\u001b[39m\u001b[38;5;124m/\u001b[39m\u001b[38;5;124m'\u001b[39m, \u001b[38;5;124m'\u001b[39m\u001b[38;5;124m \u001b[39m\u001b[38;5;124m'\u001b[39m)\u001b[38;5;241m.\u001b[39mreplace(\u001b[38;5;124m'\u001b[39m\u001b[38;5;124mbr\u001b[39m\u001b[38;5;124m'\u001b[39m, \u001b[38;5;124m'\u001b[39m\u001b[38;5;124m \u001b[39m\u001b[38;5;124m'\u001b[39m)\u001b[38;5;241m.\u001b[39mreplace(\u001b[38;5;124m'\u001b[39m\u001b[38;5;124m>\u001b[39m\u001b[38;5;124m'\u001b[39m, \u001b[38;5;124m'\u001b[39m\u001b[38;5;124m \u001b[39m\u001b[38;5;124m'\u001b[39m)\u001b[38;5;241m.\u001b[39mreplace(\u001b[38;5;124m'\u001b[39m\u001b[38;5;124mdiv\u001b[39m\u001b[38;5;124m'\u001b[39m, \u001b[38;5;124m'\u001b[39m\u001b[38;5;124m \u001b[39m\u001b[38;5;124m'\u001b[39m)\n\u001b[1;32m----> 7\u001b[0m name \u001b[38;5;241m=\u001b[39m \u001b[43mre\u001b[49m\u001b[38;5;241;43m.\u001b[39;49m\u001b[43mfindall\u001b[49m\u001b[43m(\u001b[49m\u001b[38;5;124;43mr\u001b[39;49m\u001b[38;5;124;43m'\u001b[39;49m\u001b[38;5;124;43m\\\u001b[39;49m\u001b[38;5;124;43m/text\u001b[39;49m\u001b[38;5;124;43m\\\u001b[39;49m\u001b[38;5;124;43m/веня-дркин-(.*)\u001b[39;49m\u001b[38;5;124;43m'\u001b[39;49m\u001b[43m,\u001b[49m\u001b[43m \u001b[49m\u001b[43murl\u001b[49m\u001b[43m,\u001b[49m\u001b[43m \u001b[49m\u001b[43mflags\u001b[49m\u001b[38;5;241;43m=\u001b[39;49m\u001b[38;5;241;43m0\u001b[39;49m\u001b[43m)\u001b[49m\u001b[43m[\u001b[49m\u001b[38;5;241;43m0\u001b[39;49m\u001b[43m]\u001b[49m\n\u001b[0;32m      9\u001b[0m \u001b[38;5;28;01mwith\u001b[39;00m \u001b[38;5;28mopen\u001b[39m (\u001b[38;5;124mf\u001b[39m\u001b[38;5;124m'\u001b[39m\u001b[38;5;132;01m{\u001b[39;00mname\u001b[38;5;132;01m}\u001b[39;00m\u001b[38;5;124m.txt\u001b[39m\u001b[38;5;124m'\u001b[39m, \u001b[38;5;124m'\u001b[39m\u001b[38;5;124mw\u001b[39m\u001b[38;5;124m'\u001b[39m, encoding\u001b[38;5;241m=\u001b[39m\u001b[38;5;124m'\u001b[39m\u001b[38;5;124mutf-8\u001b[39m\u001b[38;5;124m'\u001b[39m) \u001b[38;5;28;01mas\u001b[39;00m t:\n\u001b[0;32m     10\u001b[0m   t\u001b[38;5;241m.\u001b[39mwrite(result)\n",
            "\u001b[1;31mIndexError\u001b[0m: list index out of range"
          ]
        }
      ],
      "source": [
        "for url in tqdm(urls_all):\n",
        "  response = requests.get(url)\n",
        "  soup = BeautifulSoup(response.text, 'html.parser')\n",
        "  post = re.sub('<.*?>', ' ', str(re.findall('</div>.*?<a', str(soup.find_all('div', {'class': 'songtext'})))[0]))\n",
        "  result = str(re.findall('</div>.*?<a', str(soup.find_all('div', {'class': 'songtext'})))[0]).replace('<', ' ').replace('>', '').replace('/', ' ').replace('br', ' ').replace('>', ' ').replace('div', ' ')\n",
        "\n",
        "  name = re.findall(r'\\/text\\/веня-дркин-(.*)', url, flags=0)[0]\n",
        "\n",
        "  with open (f'{name}.txt', 'w', encoding='utf-8') as t:\n",
        "    t.write(result)\n",
        "\n",
        "\n"
      ]
    },
    {
      "cell_type": "code",
      "execution_count": 45,
      "metadata": {
        "id": "2KgNvqkICbQ_"
      },
      "outputs": [],
      "source": [
        "with open ('drkin.txt', 'w') as f:\n",
        "  for line in texts:\n",
        "    f.write(line)\n",
        "    f.write('\\n')"
      ]
    },
    {
      "cell_type": "code",
      "execution_count": 30,
      "metadata": {
        "colab": {
          "base_uri": "https://localhost:8080/",
          "height": 625
        },
        "id": "x-3KWSGA_U5S",
        "outputId": "0fad2c6d-452f-45fd-c6af-b60ba6d6b738"
      },
      "outputs": [
        {
          "data": {
            "application/vnd.google.colaboratory.intrinsic+json": {
              "type": "string"
            },
            "text/plain": [
              "'[<div class=\"songtext\">\\n<ul class=\"breadcrumb\">\\n<li><a href=\"/\">Тексты песен</a></li><li><a href=\"/search/веня-дркин\">Веня Дркин</a></li><li class=\"active\">Кошка</li>\\n</ul>\\n<div class=\"ads_block\">\\n<!-- Yandex.RTB R-A-575662-1 -->\\n<div id=\"yandex_rtb_R-A-575662-1\"></div>\\n<script type=\"text/javascript\">\\n\\t(function(w, d, n, s, t) {\\n\\t\\tw[n] = w[n] || [];\\n\\t\\tw[n].push(function() {\\n\\t\\t\\tYa.Context.AdvManager.render({\\n\\t\\t\\t\\tblockId: \"R-A-575662-1\",\\n\\t\\t\\t\\trenderTo: \"yandex_rtb_R-A-575662-1\",\\n\\t\\t\\t\\tasync: true\\n\\t\\t\\t});\\n\\t\\t});\\n\\t\\tt = d.getElementsByTagName(\"script\")[0];\\n\\t\\ts = d.createElement(\"script\");\\n\\t\\ts.type = \"text/javascript\";\\n\\t\\ts.src = \"//an.yandex.ru/system/context.js\";\\n\\t\\ts.async = true;\\n\\t\\tt.parentNode.insertBefore(s, t);\\n\\t})(this, this.document, \"yandexContextAsyncCallbacks\");\\n</script>\\n</div>Мне сегодня прольётся,<br/>Белой кошке в оконце,<br/>Лучик бисера пыли<br/>Доброе утро!<br/><br/>Мне сегодня воздастся<br/>Три ступеньки от царства,<br/>Три подковки от Сивки,<br/>Три копытца от братца<br/>Три попытки вернуться,<br/>Две попытки остаться<br/><br/>С вечера полоумна -<br/>Вокзал немноголюдный.<br/>Прощай, моё детство!<br/>А с утра безголова<br/>От короткого слова<br/>На стекле электрички.<br/><br/>Мне по ранней дорожке<br/>До беззубой старушки,<br/>Пауки в паутинке,<br/>Шолом алейхем.<br/>Преисполнена грации<br/>С бересты колесница.<br/>Я не Синяя Птица<br/>В три погибели гнуться<br/>Я хочу улыбаться,<br/>Чтобы не разминуться<br/><br/>И что сегодня Джа даст нам,<br/>Станет горьким лекарством<br/>С песней по жизни.<br/>И чего мне стрематься -<br/>Белой кошке в окрошке.<br/>Парус надежды.<br/><br/>1995<br/><br/><a href=\"/search/веня-дркин\"> Веня Дркин еще тексты</a><br/><br/><br/><!-- Yandex.RTB -->\\n<script>window.yaContextCb=window.yaContextCb||[]</script>\\n<script async=\"\" src=\"https://yandex.ru/ads/system/context.js\"></script>\\n<!-- Yandex.RTB R-A-575662-2 -->\\n<div id=\"yandex_rtb_R-A-575662-2\"></div>\\n<script>window.yaContextCb.push(()=>{\\n  Ya.Context.AdvManager.render({\\n\\trenderTo: \\'yandex_rtb_R-A-575662-2\\',\\n\\tblockId: \\'R-A-575662-2\\'\\n  })\\n})</script><div class=\"block\"><div class=\"blocktitle\">Другие названия этого текста</div><div class=\"blockbody\"><ul><li>Веня Дркин - Кошка (12)</li><li>Веня Дыркин - Кошка (3)</li><li>Веня Дыркин - Кошка в окошке (1)</li></ul></div></div><!-- Yandex.RTB R-A-575662-3 -->\\n<div id=\"yandex_rtb_R-A-575662-3\"></div>\\n<script>window.yaContextCb.push(()=>{\\n  Ya.Context.AdvManager.render({\\n\\trenderTo: \\'yandex_rtb_R-A-575662-3\\',\\n\\tblockId: \\'R-A-575662-3\\'\\n  })\\n})</script>\\n<div class=\"js-rating-body\">\\n<div class=\"rating js-rating\" data-animation=\"on\">\\n<label class=\"ry5-form-label ry5-margin-bottom-2xs\" for=\"rating1\">Как вам текст?</label>\\n<div class=\"rating__select\">\\n<select data-h=\"9e4ba3866b34b2e4a8cc9835450ff937\" data-id=\"539752\" data-textid=\"313118\" id=\"rating1\" name=\"rating1\">\\n<option value=\"1\">1 out of 5</option>\\n<option value=\"2\">2 out of 5</option>\\n<option value=\"3\">3 out of 5</option>\\n<option value=\"4\">4 out of 5</option>\\n<option value=\"5\">5 out of 5</option>\\n</select>\\n</div>\\n<div class=\"rating__control rating__control--is-hidden js-rating__control\">\\n<svg height=\"24\" viewbox=\"0 0 24 24\" width=\"24\"><polygon fill=\"currentColor\" points=\"12 1.489 15.09 7.751 22 8.755 17 13.629 18.18 20.511 12 17.261 5.82 20.511 7 13.629 2 8.755 8.91 7.751 12 1.489\"></polygon></svg>\\n</div>\\n</div>\\n</div>\\n<script defer=\"\" src=\"/i/rating/rating.js?1.1\" type=\"text/javascript\"></script>\\n<link href=\"/i/rating/rating.css?3.312\" media=\"screen\" rel=\"stylesheet\" type=\"text/css\"/>\\n<div class=\"pageinfo\"><div class=\"openstat\">Статистика страницы на pesni.guru ▼</div><div class=\"stat\">Просмотров сегодня: 9<br/></div></div>\\n</div>]'"
            ]
          },
          "execution_count": 30,
          "metadata": {},
          "output_type": "execute_result"
        }
      ],
      "source": [
        "str(soup.find_all('div', {'class': 'songtext'}))"
      ]
    }
  ],
  "metadata": {
    "colab": {
      "provenance": []
    },
    "kernelspec": {
      "display_name": "Python 3",
      "name": "python3"
    },
    "language_info": {
      "codemirror_mode": {
        "name": "ipython",
        "version": 3
      },
      "file_extension": ".py",
      "mimetype": "text/x-python",
      "name": "python",
      "nbconvert_exporter": "python",
      "pygments_lexer": "ipython3",
      "version": "3.10.5"
    }
  },
  "nbformat": 4,
  "nbformat_minor": 0
}
